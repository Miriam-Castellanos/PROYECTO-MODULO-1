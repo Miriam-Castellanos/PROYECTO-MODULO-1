{
 "cells": [
  {
   "cell_type": "markdown",
   "metadata": {},
   "source": [
    "# Proyecto módulo 1\n",
    "\n",
    "\n"
   ]
  },
  {
   "cell_type": "markdown",
   "metadata": {},
   "source": [
    "**Enunciado.** La compañia Azano dispone de dos bloqueras $B_1$, y $B_2$., para cubrir la demanda de ventas de blocs. La $B_1$, produce más que la $B_2$ pero no puede sobrepasar $2000$ piezas diarias y la suma de la producción de ambas no debe ser mayor a $3250$.\n",
    "El costo de la $B_1$ por pieza es $\\$1.75$ y el de la $B_2$ es de $\\$2.00$\n",
    "¿Cuántas piezas debe producir cada bloquera para minimizar los costos de producción si se requieren producir 220000 blocs en una semana?"
   ]
  },
  {
   "cell_type": "markdown",
   "metadata": {},
   "source": [
    "*Definición de variables*: Sea $x_1$ Bloquera 1 $B_1$ y $x_2$ la Bloquera 2 $B_2$.\n",
    "La función a minimizar es:"
   ]
  },
  {
   "cell_type": "markdown",
   "metadata": {},
   "source": [
    "\\begin{equation}\n",
    "\\begin{array}{ll}\n",
    "\\min_{\\boldsymbol{x}} & \\boldsymbol{c}^T\\boldsymbol{x} \\\\\n",
    "\\text{s. a. }        & \\boldsymbol{A}_{eq}\\boldsymbol{x}=\\boldsymbol{b}_{eq} \\\\\n",
    "                     & \\boldsymbol{A}\\boldsymbol{x}\\leq\\boldsymbol{b},\n",
    "\\end{array}\n",
    "\\end{equation}"
   ]
  },
  {
   "cell_type": "markdown",
   "metadata": {},
   "source": [
    "La función a minimizar viene dada por: \n",
    "$$\\min_{x_1,x_2} 1.75x_1+2x_2$$\n",
    "\n",
    "y las restricciones están dadas por:\n",
    "$$x_1\\leq 2000$$\n",
    "$$-x_1+x_2\\leq0$$\n",
    "$$x_1+x_2\\leq 3250$$\n"
   ]
  },
  {
   "cell_type": "code",
   "execution_count": null,
   "metadata": {},
   "outputs": [],
   "source": []
  }
 ],
 "metadata": {
  "kernelspec": {
   "display_name": "Python 3",
   "language": "python",
   "name": "python3"
  },
  "language_info": {
   "codemirror_mode": {
    "name": "ipython",
    "version": 3
   },
   "file_extension": ".py",
   "mimetype": "text/x-python",
   "name": "python",
   "nbconvert_exporter": "python",
   "pygments_lexer": "ipython3",
   "version": "3.7.3"
  }
 },
 "nbformat": 4,
 "nbformat_minor": 2
}
