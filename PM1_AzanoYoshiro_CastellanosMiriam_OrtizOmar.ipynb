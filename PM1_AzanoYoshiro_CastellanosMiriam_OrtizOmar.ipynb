{
 "cells": [
  {
   "cell_type": "code",
   "execution_count": 3,
   "metadata": {},
   "outputs": [
    {
     "data": {
      "text/latex": [
       "$\\displaystyle x$"
      ],
      "text/plain": [
       "x"
      ]
     },
     "execution_count": 3,
     "metadata": {},
     "output_type": "execute_result"
    }
   ],
   "source": [
    "import sympy as sym\n",
    "import numpy as np\n",
    "import matplotlib.pyplot as plt\n",
    "%matplotlib inline\n",
    "sym.var('x')\n",
    "x"
   ]
  },
  {
   "cell_type": "markdown",
   "metadata": {},
   "source": [
    "## Programación lineal."
   ]
  },
  {
   "cell_type": "markdown",
   "metadata": {},
   "source": [
    "**Enunciado.** cemex dispone de dos tipos de camiones $A_1$, y $A_2$., para cubrir un determinado\n",
    "trayecto. El camión $A_1$, debe hacer el trayecto más veces que el camión $A_2$ pero no puede sobrepasar $62$\n",
    "viajes. Entre los dos camiones deben hacer más de $30$ viajes, pero menos de $150$. En cada viaje del camión $A_1$ la empresa gana $\\$220000$ y $\\$150000$ por cada viaje del camión $A_2$. ¿Cuántos viajes debe hacer cada camión para obtener el máximo de ganancias?"
   ]
  },
  {
   "cell_type": "markdown",
   "metadata": {},
   "source": [
    "*Definición de variables*: Sea $x_1$ la cantidad de viajes del camión $A_1$ y $x_2$ la cantidad de  viajes del camión $A_2$."
   ]
  },
  {
   "cell_type": "markdown",
   "metadata": {},
   "source": [
    " **Punto 1** Problema en la forma \n",
    "\\begin{equation}\n",
    "\\begin{array}{ll}\n",
    "\\min_{\\boldsymbol{x}} & \\boldsymbol{c}^T\\boldsymbol{x} \\\\\n",
    "\\text{s. a. }        & \\boldsymbol{A}_{eq}\\boldsymbol{x}=\\boldsymbol{b}_{eq} \\\\\n",
    "                     & \\boldsymbol{A}\\boldsymbol{x}\\leq\\boldsymbol{b},\n",
    "\\end{array}\n",
    "\\end{equation}\n",
    "\n"
   ]
  },
  {
   "cell_type": "markdown",
   "metadata": {},
   "source": [
    "**Solución punto 1.**"
   ]
  },
  {
   "cell_type": "markdown",
   "metadata": {},
   "source": [
    "La función a maximizar es:\n",
    "$$\\max_{x_1,\\cdots,x_2} 220000x_1+150000x_2$$\n",
    "Las restricciones estan dadas por:\n",
    "Restricciones de camino:\n",
    "$$x_1\\leq 62$$\n",
    "$$x_2\\leq x_1$$\n",
    "$$x_1+x_2\\geq 31$$\n",
    "$$x_1+x_2\\leq 149$$"
   ]
  },
  {
   "cell_type": "code",
   "execution_count": 29,
   "metadata": {},
   "outputs": [],
   "source": [
    "c = np.array([-220000,-150000])\n",
    "a = np.array([[1,0],\n",
    "             [-1,1],\n",
    "             [-1,-1],\n",
    "             [1,1]])\n",
    "b = np.array([62,0,-31,149])\n"
   ]
  },
  {
   "cell_type": "markdown",
   "metadata": {},
   "source": [
    "**Punto 2 .** Resolvemos el problema utilizando la función `linprog`. ¿Cuántos será la ganancia total?, ¿Cuántos viajes debe hacer cada camión?"
   ]
  },
  {
   "cell_type": "code",
   "execution_count": 30,
   "metadata": {},
   "outputs": [],
   "source": [
    "import scipy.optimize as opt"
   ]
  },
  {
   "cell_type": "code",
   "execution_count": 31,
   "metadata": {},
   "outputs": [
    {
     "data": {
      "text/plain": [
       "     fun: -22940000.0\n",
       " message: 'Optimization terminated successfully.'\n",
       "     nit: 3\n",
       "   slack: array([ 0.,  0., 25.,  0.])\n",
       "  status: 0\n",
       " success: True\n",
       "       x: array([62., 62.])"
      ]
     },
     "execution_count": 31,
     "metadata": {},
     "output_type": "execute_result"
    }
   ],
   "source": [
    "resultado = opt.linprog(c,a,b)\n",
    "resultado"
   ]
  },
  {
   "cell_type": "markdown",
   "metadata": {},
   "source": [
    "**Conclusión**\n",
    "la ganancia total es 22940000.00 y es necesario 62 viajes de $A_1$ y 62 viajes $A_2$"
   ]
  },
  {
   "cell_type": "markdown",
   "metadata": {},
   "source": [
    "**Punto 3** Gráfica que muestre el resultado"
   ]
  },
  {
   "cell_type": "code",
   "execution_count": null,
   "metadata": {},
   "outputs": [],
   "source": [
    "def r1(x1):\n",
    "    return (62-x1)\n",
    "def r2(x1):\n",
    "    return(x1)\n",
    "def r3(-31+x1):\n",
    "    return()\n",
    "def r4():\n",
    "    return\n",
    "def fun_costo(x1,x2):\n",
    "    return(220000*x1+150000*x2)\n",
    "\n",
    "xnum = np.linspace(-10,270,250)\n",
    "res1 = r1(xnum)\n",
    "res2 = r2(xnum)\n",
    "plt.figure(fisize=(8,6))\n",
    "plt.plot()"
   ]
  }
 ],
 "metadata": {
  "kernelspec": {
   "display_name": "Python 3",
   "language": "python",
   "name": "python3"
  },
  "language_info": {
   "codemirror_mode": {
    "name": "ipython",
    "version": 3
   },
   "file_extension": ".py",
   "mimetype": "text/x-python",
   "name": "python",
   "nbconvert_exporter": "python",
   "pygments_lexer": "ipython3",
   "version": "3.7.3"
  }
 },
 "nbformat": 4,
 "nbformat_minor": 2
}
