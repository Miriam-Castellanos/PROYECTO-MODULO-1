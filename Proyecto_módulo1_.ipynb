{
 "cells": [
  {
   "cell_type": "markdown",
   "metadata": {},
   "source": [
    "# Proyecto\n",
    "\n",
    "\n"
   ]
  },
  {
   "cell_type": "markdown",
   "metadata": {},
   "source": [
    "**Enunciado.** La compañia Azano dispone de dos bloqueras $Bloquera_1$, y $Bloquera_2$., para cubrir la demanda de ventas de blocs. La $Bloquera_1$, produce más que la $Bloquera_2$ pero no puede sobrepasar $2000$ piezas diarias y la suma de la producción de ambas no debe ser mayor a $3250$.\n",
    "El costo de la $Bloquera_1$ por pieza es $\\$1.75$ y el de la $Bloquera_2$ es de $\\$2.00$\n",
    "¿Cuántas piezas debe producir cada bloquera para minimizar los costos de producción si se requieren producir 220000 blocs en una semana?"
   ]
  },
  {
   "cell_type": "code",
   "execution_count": null,
   "metadata": {},
   "outputs": [],
   "source": []
  }
 ],
 "metadata": {
  "kernelspec": {
   "display_name": "Python 3",
   "language": "python",
   "name": "python3"
  },
  "language_info": {
   "codemirror_mode": {
    "name": "ipython",
    "version": 3
   },
   "file_extension": ".py",
   "mimetype": "text/x-python",
   "name": "python",
   "nbconvert_exporter": "python",
   "pygments_lexer": "ipython3",
   "version": "3.7.3"
  }
 },
 "nbformat": 4,
 "nbformat_minor": 2
}
